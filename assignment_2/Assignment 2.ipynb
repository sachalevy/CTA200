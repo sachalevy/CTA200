{
 "cells": [
  {
   "cell_type": "code",
   "execution_count": null,
   "metadata": {},
   "outputs": [],
   "source": [
    "import numpy as np\n",
    "import matplotlib.pyplot as plt"
   ]
  },
  {
   "cell_type": "markdown",
   "metadata": {},
   "source": [
    "## Question 1\n",
    "\n",
    "The first question calls for comparison between a numerical and analytical derivative using numpy. The relative error between the numerical and analytical error is shown using a matplotlib loglog plot."
   ]
  },
  {
   "cell_type": "code",
   "execution_count": null,
   "metadata": {},
   "outputs": [],
   "source": [
    "def deriv(f, x0, h):\n",
    "    return (f(x0+h)-f(x0-h))/(2*h)"
   ]
  },
  {
   "cell_type": "code",
   "execution_count": null,
   "metadata": {},
   "outputs": [],
   "source": [
    "# computing for f = sin(x), and x0 = 0.1\n",
    "h_vals = np.linspace(0.0001, 1, 100)\n",
    "x0 = np.array([0.1])\n",
    "d_numerical = deriv(np.sin, x0, h_vals)\n",
    "d_analytical = np.cos(x0)"
   ]
  },
  {
   "cell_type": "code",
   "execution_count": null,
   "metadata": {},
   "outputs": [],
   "source": [
    "d_err = np.absolute(d_numerical-d_analytical)/d_analytical"
   ]
  },
  {
   "cell_type": "code",
   "execution_count": null,
   "metadata": {},
   "outputs": [],
   "source": [
    "fig, ax = plt.subplots()\n",
    "ax.loglog(h_vals, d_err)\n",
    "ax.set_xscale('log', base=10)\n",
    "ax.set(title='Derivation relative error as a function of step size h.')\n",
    "ax.grid()\n",
    "plt.savefig('q1_loglog_derivation.pdf') \n",
    "plt.show()"
   ]
  },
  {
   "cell_type": "markdown",
   "metadata": {},
   "source": [
    "we see that the relative derivation error is linearly correlated to the derivation step size. The slope represents the accuracy of the numerical derivation with respect to the step size. "
   ]
  },
  {
   "cell_type": "markdown",
   "metadata": {},
   "source": [
    "## Question 2\n",
    "\n",
    "We define a complex recursive function and study its behaviour as we iterate through it."
   ]
  },
  {
   "cell_type": "code",
   "execution_count": null,
   "metadata": {},
   "outputs": [],
   "source": [
    "def eq2(z, c):\n",
    "    return c+(z**2)"
   ]
  },
  {
   "cell_type": "code",
   "execution_count": null,
   "metadata": {},
   "outputs": [],
   "source": [
    "z = np.zeros((100, 100))\n",
    "x, y = np.meshgrid(np.linspace(-2, 2, 100), 1j*np.linspace(-2, 2, 100))\n",
    "c = x + y\n",
    "c.shape\n",
    "\n",
    "n_iter = 9\n",
    "color_mask = np.zeros((100, 100))\n",
    "while n_iter:\n",
    "    z = eq2(z, c)\n",
    "    new_unbounded = np.where((np.absolute(z)**2 >= (z.real**2 + z.imag**2)), 0, 1)\n",
    "    new_unbounded *= np.where(color_mask == 0, 1, 0)\n",
    "    n_iter -=1\n",
    "    color_mask[np.nonzero(new_unbounded)] = 9-n_iter"
   ]
  },
  {
   "cell_type": "code",
   "execution_count": null,
   "metadata": {},
   "outputs": [],
   "source": [
    "bounded, unbounded = np.where(np.absolute(z)**2 >= (z.real**2 + z.imag**2), 1, 0), np.where(np.absolute(z)**2 >= (z.real**2 + z.imag**2), 0, 1)"
   ]
  },
  {
   "cell_type": "code",
   "execution_count": null,
   "metadata": {},
   "outputs": [],
   "source": [
    "fig, ax = plt.subplots()\n",
    "ax.scatter(\n",
    "    c[np.nonzero(bounded)].real, \n",
    "    c[np.nonzero(bounded)].imag, \n",
    "    color='tab:blue', \n",
    "    alpha=0.3, \n",
    "    edgecolors='none'\n",
    ")\n",
    "ax.scatter(\n",
    "    c[np.nonzero(unbounded)].real, \n",
    "    c[np.nonzero(unbounded)].imag, \n",
    "    color='tab:orange', \n",
    "    alpha=0.3, \n",
    "    edgecolors='none'\n",
    ")\n",
    "plt.savefig('q2_complex_bounded.pdf')  \n",
    "plt.show()"
   ]
  },
  {
   "cell_type": "code",
   "execution_count": null,
   "metadata": {},
   "outputs": [],
   "source": [
    "fig, ax = plt.subplots()\n",
    "pcm = ax.pcolormesh(color_mask)\n",
    "fig.colorbar(pcm, ax=ax)\n",
    "plt.savefig('q2_complex_color_map.pdf')\n",
    "plt.show()"
   ]
  },
  {
   "cell_type": "markdown",
   "metadata": {},
   "source": [
    "## Question 3\n",
    "\n",
    "In this question we make disease spread simulation using the SIR model."
   ]
  },
  {
   "cell_type": "code",
   "execution_count": null,
   "metadata": {},
   "outputs": [],
   "source": [
    "from scipy.integrate import solve_ivp\n",
    "\n",
    "N = 1000\n",
    "t0, t1 = 0, 200\n",
    "t = np.arange(t0, t1)\n",
    "gammas = [5, 25]\n",
    "betas = [0.05, 0.15]\n",
    "I0 = 1\n",
    "S0 = 999\n",
    "R0 = 0\n",
    "\n",
    "y0 = np.array([I0, S0, R0])\n",
    "\n",
    "def SIR_system(t, y, N, beta, gamma):\n",
    "    I, S, R = y\n",
    "    return np.array([\n",
    "        -beta*S*I/N,\n",
    "        (beta*I*S/N)-gamma*I,\n",
    "        gamma*I\n",
    "    ])"
   ]
  },
  {
   "cell_type": "code",
   "execution_count": null,
   "metadata": {},
   "outputs": [],
   "source": [
    "def solve_SIR_ivp(y0, N, beta, gamma):\n",
    "    return solve_ivp(\n",
    "        fun=lambda t, y: SIR_system(t, y, N, beta, gamma),\n",
    "        t_span=(t0,t1),\n",
    "        y0=y0,\n",
    "    )"
   ]
  },
  {
   "cell_type": "code",
   "execution_count": null,
   "metadata": {},
   "outputs": [],
   "source": [
    "fig, axs = plt.subplots(len(gammas), len(betas))\n",
    "\n",
    "for i in range(len(gammas)):\n",
    "    for j in range(len(betas)):\n",
    "        sol_I, sol_S, sol_R = solve_SIR_ivp(y0, N, betas[j], gammas[i]).y\n",
    "        t = np.arange(sol_I.shape[0])\n",
    "        axs[i, j].plot(t, sol_S, label='S - susceptible')\n",
    "        axs[i, j].plot(t, sol_I, label='I - infected')\n",
    "        axs[i, j].plot(t, sol_R, label='R - recovered')\n",
    "        axs[i, j].set_title(f'beta {betas[j]} && gamma {gammas[i]}')\n",
    "        axs[i, j].grid(True)\n",
    "\n",
    "axs[0, 1].legend()\n",
    "fig.tight_layout()\n",
    "plt.savefig('q3_sir_ivp.pdf') \n",
    "plt.show()"
   ]
  },
  {
   "cell_type": "code",
   "execution_count": null,
   "metadata": {},
   "outputs": [],
   "source": []
  }
 ],
 "metadata": {
  "kernelspec": {
   "display_name": "cta200h",
   "language": "python",
   "name": "cta200h"
  },
  "language_info": {
   "codemirror_mode": {
    "name": "ipython",
    "version": 3
   },
   "file_extension": ".py",
   "mimetype": "text/x-python",
   "name": "python",
   "nbconvert_exporter": "python",
   "pygments_lexer": "ipython3",
   "version": "3.7.6"
  }
 },
 "nbformat": 4,
 "nbformat_minor": 4
}
